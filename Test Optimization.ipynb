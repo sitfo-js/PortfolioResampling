{
 "cells": [
  {
   "cell_type": "code",
   "execution_count": 1,
   "id": "8ac25fa8",
   "metadata": {},
   "outputs": [],
   "source": [
    "import pandas as pd\n",
    "import numpy as np\n",
    "import matplotlib.pyplot as plt\n",
    "import seaborn as sns\n",
    "import arch.bootstrap as boot\n",
    "import importlib\n",
    "\n",
    "import seaborn as sns\n",
    "import time\n",
    "\n",
    "from sklearn.cluster import KMeans\n",
    "import sklearn\n",
    "\n",
    "# my modules\n",
    "\n",
    "import sys\n",
    "sys.path.insert(0, r\"C:\\Users\\johnsorensen\\Documents\\Python Package\")\n",
    "\n",
    "\n",
    "plt.rcParams.update({'font.size': 10})\n",
    "plt.rcParams['figure.dpi'] = 75\n",
    "\n",
    "%matplotlib inline"
   ]
  },
  {
   "cell_type": "code",
   "execution_count": 2,
   "id": "2b3fb673",
   "metadata": {},
   "outputs": [
    {
     "data": {
      "text/plain": [
       "<module 'optimization_new.visualizations' from 'C:\\\\Users\\\\johnsorensen\\\\Documents\\\\Python Package\\\\optimization_new\\\\visualizations.py'>"
      ]
     },
     "execution_count": 2,
     "metadata": {},
     "output_type": "execute_result"
    }
   ],
   "source": [
    "from optimization_new import problem, metrics, resampling, constraints\n",
    "from optimization_new import visualizations as vis\n",
    "\n",
    "importlib.reload(constraints)\n",
    "importlib.reload(metrics)\n",
    "importlib.reload(problem)\n",
    "importlib.reload(resampling)\n",
    "importlib.reload(vis)"
   ]
  },
  {
   "cell_type": "code",
   "execution_count": 3,
   "id": "84b97003",
   "metadata": {},
   "outputs": [],
   "source": [
    "shared_folder = \"F:\\SITFO\\Risk\\Corpus and Drawdown\"\n",
    "saa_returns = pd.read_excel(shared_folder + r\"\\SAA data.xlsx\", \"Data\", header = [0, 1])\n",
    "saa_returns.index = pd.period_range(start = \"1990-02\", end = \"2023-04\", freq = \"M\")\n",
    "saa_returns = saa_returns.drop(\"Portfolio\", axis = 1, level = 1).dropna()\n",
    "saa_returns.columns.names = ['GRID Bucket', 'Asset Class']\n",
    "\n",
    "weights = pd.read_excel(shared_folder + r\"\\Weight Scenarios.xlsx\", \n",
    "                               \"Weights\", index_col = [0, 1], nrows = 10)\n",
    "\n",
    "policy_weights = weights[\"Policy Weights\"]\n",
    "\n",
    "saa_returns /= 100"
   ]
  },
  {
   "cell_type": "code",
   "execution_count": 4,
   "id": "b390f56b",
   "metadata": {},
   "outputs": [],
   "source": [
    "def problem_func(returns):\n",
    "    \n",
    "    mean = returns.mean(axis = 0).values\n",
    "    std = returns.std(axis = 0).values\n",
    "    \n",
    "    m1 = metrics.Volatility(returns.cov().values, annualization = \"Sqrt\")\n",
    "    m2 = metrics.AvgArithReturn(mu = mean, annualization = \"Compound\")\n",
    "    \n",
    "    return problem.PortfolioProblem(returns, [m1, m2])\n",
    "    \n",
    "    \n",
    "true_opt_obj = problem_func(saa_returns)\n",
    "true_opt_obj.optimize()"
   ]
  },
  {
   "cell_type": "code",
   "execution_count": 6,
   "id": "14cd2a1b",
   "metadata": {},
   "outputs": [],
   "source": [
    "#rolling_resampler = resampling.RollingWindow(problem_func, args_to_resample = [saa_returns],\n",
    "#                                             gap_size = 12, ascending = False)"
   ]
  },
  {
   "cell_type": "code",
   "execution_count": 7,
   "id": "6346140d",
   "metadata": {
    "scrolled": false
   },
   "outputs": [],
   "source": [
    "#rolling_resampler.resample()\n"
   ]
  },
  {
   "cell_type": "code",
   "execution_count": null,
   "id": "a26ab2f7",
   "metadata": {},
   "outputs": [],
   "source": [
    "boot_resampler = resampling."
   ]
  },
  {
   "cell_type": "code",
   "execution_count": null,
   "id": "18c2834f",
   "metadata": {},
   "outputs": [],
   "source": []
  },
  {
   "cell_type": "code",
   "execution_count": null,
   "id": "7d0138c3",
   "metadata": {},
   "outputs": [],
   "source": []
  }
 ],
 "metadata": {
  "kernelspec": {
   "display_name": "Python 3 (ipykernel)",
   "language": "python",
   "name": "python3"
  },
  "language_info": {
   "codemirror_mode": {
    "name": "ipython",
    "version": 3
   },
   "file_extension": ".py",
   "mimetype": "text/x-python",
   "name": "python",
   "nbconvert_exporter": "python",
   "pygments_lexer": "ipython3",
   "version": "3.10.9"
  }
 },
 "nbformat": 4,
 "nbformat_minor": 5
}
