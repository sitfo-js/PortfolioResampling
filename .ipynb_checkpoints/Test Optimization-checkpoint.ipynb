{
 "cells": [
  {
   "cell_type": "code",
   "execution_count": 170,
   "id": "8ac25fa8",
   "metadata": {},
   "outputs": [],
   "source": [
    "import pandas as pd\n",
    "import numpy as np\n",
    "import matplotlib.pyplot as plt\n",
    "import seaborn as sns\n",
    "import arch.bootstrap as boot\n",
    "import importlib\n",
    "\n",
    "import seaborn as sns\n",
    "import time\n",
    "\n",
    "from sklearn.cluster import KMeans\n",
    "import sklearn\n",
    "\n",
    "# my modules\n",
    "\n",
    "import sys\n",
    "sys.path.insert(0, r\"C:\\Users\\johnsorensen\\Documents\\Python Package\")\n",
    "\n",
    "\n",
    "plt.rcParams.update({'font.size': 10})\n",
    "plt.rcParams['figure.dpi'] = 75\n",
    "\n",
    "%matplotlib inline"
   ]
  },
  {
   "cell_type": "code",
   "execution_count": 171,
   "id": "2b3fb673",
   "metadata": {},
   "outputs": [
    {
     "data": {
      "text/plain": [
       "<module 'optimization_new.visualizations' from 'C:\\\\Users\\\\johnsorensen\\\\Documents\\\\Python Package\\\\optimization_new\\\\visualizations.py'>"
      ]
     },
     "execution_count": 171,
     "metadata": {},
     "output_type": "execute_result"
    }
   ],
   "source": [
    "from optimization_new import problem, metrics, resampling, constraints\n",
    "from optimization_new import visualizations as vis\n",
    "\n",
    "importlib.reload(constraints)\n",
    "importlib.reload(metrics)\n",
    "importlib.reload(problem)\n",
    "importlib.reload(resampling)\n",
    "importlib.reload(vis)"
   ]
  },
  {
   "cell_type": "code",
   "execution_count": 10,
   "id": "84b97003",
   "metadata": {},
   "outputs": [],
   "source": [
    "shared_folder = \"F:\\SITFO\\Risk\\Corpus and Drawdown\"\n",
    "saa_returns = pd.read_excel(shared_folder + r\"\\SAA data.xlsx\", \"Data\", header = [0, 1])\n",
    "saa_returns.index = pd.period_range(start = \"1990-02\", end = \"2023-04\", freq = \"M\")\n",
    "saa_returns = saa_returns.drop(\"Portfolio\", axis = 1, level = 1).dropna()\n",
    "saa_returns.columns.names = ['GRID Bucket', 'Asset Class']\n",
    "\n",
    "weights = pd.read_excel(shared_folder + r\"\\Weight Scenarios.xlsx\", \n",
    "                               \"Weights\", index_col = [0, 1], nrows = 10)\n",
    "\n",
    "policy_weights = weights[\"Policy Weights\"]\n",
    "\n",
    "saa_returns /= 100"
   ]
  },
  {
   "cell_type": "code",
   "execution_count": 172,
   "id": "b390f56b",
   "metadata": {},
   "outputs": [],
   "source": [
    "def problem_func(returns):\n",
    "    \n",
    "    mean = returns.mean(axis = 0).values\n",
    "    std = returns.std(axis = 0).values\n",
    "    \n",
    "    m1 = metrics.Volatility(returns.cov().values, annualization = \"Sqrt\")\n",
    "    m2 = metrics.AvgArithReturn(mu = mean, annualization = \"Compound\")\n",
    "    \n",
    "    return problem.PortfolioProblem(returns, [m1, m2])\n",
    "    \n",
    "    \n",
    "true_opt_obj = problem_func(saa_returns)\n",
    "true_opt_obj.optimize()"
   ]
  },
  {
   "cell_type": "code",
   "execution_count": 173,
   "id": "14cd2a1b",
   "metadata": {},
   "outputs": [],
   "source": [
    "rolling_resampler = resampling.RollingWindow(problem_func, args_to_resample = [saa_returns],\n",
    "                                             gap_size = 12, ascending = False,\n",
    "                                             true_opt_obj = true_opt_obj)"
   ]
  },
  {
   "cell_type": "code",
   "execution_count": 174,
   "id": "6346140d",
   "metadata": {
    "scrolled": false
   },
   "outputs": [],
   "source": [
    "rolling_resampler.resample()\n"
   ]
  },
  {
   "cell_type": "code",
   "execution_count": null,
   "id": "a26ab2f7",
   "metadata": {},
   "outputs": [],
   "source": []
  },
  {
   "cell_type": "code",
   "execution_count": 115,
   "id": "18c2834f",
   "metadata": {},
   "outputs": [
    {
     "name": "stdout",
     "output_type": "stream",
     "text": [
      "88\n",
      "[88, 89, 90, 91, 92, 93, 94, 95, 96, 97, 98, 99]\n",
      "12\n",
      "86\n",
      "[86, 87, 88, 89, 90, 91, 92, 93, 94, 95, 96, 97]\n",
      "12\n",
      "84\n",
      "[84, 85, 86, 87, 88, 89, 90, 91, 92, 93, 94, 95]\n",
      "12\n",
      "82\n",
      "[82, 83, 84, 85, 86, 87, 88, 89, 90, 91, 92, 93]\n",
      "12\n",
      "80\n",
      "[80, 81, 82, 83, 84, 85, 86, 87, 88, 89, 90, 91]\n",
      "12\n",
      "78\n",
      "[78, 79, 80, 81, 82, 83, 84, 85, 86, 87, 88, 89]\n",
      "12\n",
      "76\n",
      "[76, 77, 78, 79, 80, 81, 82, 83, 84, 85, 86, 87]\n",
      "12\n",
      "74\n",
      "[74, 75, 76, 77, 78, 79, 80, 81, 82, 83, 84, 85]\n",
      "12\n",
      "72\n",
      "[72, 73, 74, 75, 76, 77, 78, 79, 80, 81, 82, 83]\n",
      "12\n",
      "70\n",
      "[70, 71, 72, 73, 74, 75, 76, 77, 78, 79, 80, 81]\n",
      "12\n",
      "68\n",
      "[68, 69, 70, 71, 72, 73, 74, 75, 76, 77, 78, 79]\n",
      "12\n",
      "66\n",
      "[66, 67, 68, 69, 70, 71, 72, 73, 74, 75, 76, 77]\n",
      "12\n",
      "64\n",
      "[64, 65, 66, 67, 68, 69, 70, 71, 72, 73, 74, 75]\n",
      "12\n",
      "62\n",
      "[62, 63, 64, 65, 66, 67, 68, 69, 70, 71, 72, 73]\n",
      "12\n",
      "60\n",
      "[60, 61, 62, 63, 64, 65, 66, 67, 68, 69, 70, 71]\n",
      "12\n",
      "58\n",
      "[58, 59, 60, 61, 62, 63, 64, 65, 66, 67, 68, 69]\n",
      "12\n",
      "56\n",
      "[56, 57, 58, 59, 60, 61, 62, 63, 64, 65, 66, 67]\n",
      "12\n",
      "54\n",
      "[54, 55, 56, 57, 58, 59, 60, 61, 62, 63, 64, 65]\n",
      "12\n",
      "52\n",
      "[52, 53, 54, 55, 56, 57, 58, 59, 60, 61, 62, 63]\n",
      "12\n",
      "50\n",
      "[50, 51, 52, 53, 54, 55, 56, 57, 58, 59, 60, 61]\n",
      "12\n",
      "48\n",
      "46\n",
      "44\n",
      "42\n",
      "40\n",
      "38\n",
      "36\n",
      "34\n",
      "32\n",
      "30\n",
      "28\n",
      "26\n",
      "24\n",
      "22\n",
      "20\n",
      "18\n",
      "16\n",
      "14\n",
      "12\n",
      "10\n",
      "8\n",
      "6\n",
      "4\n",
      "2\n",
      "0\n",
      "-2\n",
      "-4\n",
      "-6\n",
      "-8\n",
      "-10\n"
     ]
    }
   ],
   "source": [
    "data = [x for x in range(100)]\n",
    "\n",
    "\n",
    "\n",
    "\n",
    "def generator(reverse = False):\n",
    "    \n",
    "    start = 0\n",
    "    end = 100\n",
    "    gap_size = 2\n",
    "    min_periods = 50\n",
    "    window = 12\n",
    "    \n",
    "    if reverse:\n",
    "        gap_size = -gap_size\n",
    "        start, end = end, start\n",
    "        \n",
    "\n",
    "    for i in range(start, end, gap_size):\n",
    "        j = i - window\n",
    "        \n",
    "\n",
    "        if j < min_periods:\n",
    "            continue\n",
    "\n",
    "        \n",
    "        yield data[j:i]\n",
    "            \n",
    "        \n",
    "for data_slice in generator(reverse = True):\n",
    "    print(data_slice)\n",
    "    print(len(data_slice))\n",
    "    \n",
    "\n"
   ]
  },
  {
   "cell_type": "code",
   "execution_count": null,
   "id": "7d0138c3",
   "metadata": {},
   "outputs": [],
   "source": []
  }
 ],
 "metadata": {
  "kernelspec": {
   "display_name": "Python 3 (ipykernel)",
   "language": "python",
   "name": "python3"
  },
  "language_info": {
   "codemirror_mode": {
    "name": "ipython",
    "version": 3
   },
   "file_extension": ".py",
   "mimetype": "text/x-python",
   "name": "python",
   "nbconvert_exporter": "python",
   "pygments_lexer": "ipython3",
   "version": "3.10.9"
  }
 },
 "nbformat": 4,
 "nbformat_minor": 5
}
